{
 "cells": [
  {
   "cell_type": "code",
   "execution_count": 1,
   "id": "b91163d9",
   "metadata": {},
   "outputs": [],
   "source": [
    "%matplotlib inline\n",
    "import numpy as np\n",
    "import matplotlib.pyplot as plt\n",
    "import healpy as hp\n",
    "\n",
    "import lsst.sims.maf.db as db\n",
    "import lsst.sims.maf.utils as utils\n",
    "import lsst.sims.maf.metrics as metrics\n",
    "import lsst.sims.maf.slicers as slicers\n",
    "import lsst.sims.maf.stackers as stackers\n",
    "import lsst.sims.maf.metricBundles as metricBundles\n"
   ]
  },
  {
   "cell_type": "code",
   "execution_count": 2,
   "id": "2dd44808",
   "metadata": {},
   "outputs": [],
   "source": [
    "ra = 50\n",
    "dec=-20"
   ]
  },
  {
   "cell_type": "code",
   "execution_count": 3,
   "id": "4e264622",
   "metadata": {},
   "outputs": [],
   "source": [
    "dbFile = 'third_obs_pt120v1.5_10yrs.db'\n",
    "conn = db.OpsimDatabase(dbFile)\n",
    "outDir='temp'\n",
    "resultsDb = db.ResultsDb(outDir=outDir)"
   ]
  },
  {
   "cell_type": "code",
   "execution_count": 4,
   "id": "fc2680a8",
   "metadata": {},
   "outputs": [
    {
     "name": "stdout",
     "output_type": "stream",
     "text": [
      "Querying database SummaryAllProps with no constraint for columns ['observationStartMJD', 'fieldRA', 'filter', 'fieldDec', 'note', 'night'].\n",
      "Found 2240627 visits\n",
      "Running:  ['opsim_Pass_filter_note_observationStartMJD_night_USER']\n",
      "Completed metric generation.\n",
      "Running reduce methods.\n",
      "Running summary statistics.\n",
      "Completed.\n"
     ]
    },
    {
     "data": {
      "text/plain": [
       "(63, 35)"
      ]
     },
     "execution_count": 4,
     "metadata": {},
     "output_type": "execute_result"
    }
   ],
   "source": [
    "\n",
    "bundleList = []\n",
    "sql = ''\n",
    "metric = metrics.PassMetric(cols=['filter', 'note', 'observationStartMJD', 'night'])\n",
    "slicer = slicers.UserPointsSlicer(ra=ra, dec=dec)\n",
    "bundleList.append(metricBundles.MetricBundle(metric,slicer,sql))\n",
    "\n",
    "bd = metricBundles.makeBundlesDictFromList(bundleList)\n",
    "bg = metricBundles.MetricBundleGroup(bd, conn, outDir=outDir, resultsDb=resultsDb)\n",
    "bg.runAll()\n",
    "\n",
    "mv = bundleList[0].metricValues[0]\n",
    "mv.sort(order='observationStartMJD')\n",
    "\n",
    "#pb = ['pair_blob' in note for note in mv['note']]\n",
    "#pb = np.where(pb)[0]\n",
    "\n",
    "u_nights = np.unique(mv['night'])\n",
    "pb = []\n",
    "for night in u_nights:\n",
    "    in_night = np.where(mv['night'] == night)[0]\n",
    "    if np.size(np.unique(mv['filter'][in_night])) > 1:\n",
    "        pb.append(in_night.max())\n",
    "\n",
    "\n",
    "max_gaps = []\n",
    "for i in pb:\n",
    "    max_gaps.append(np.max((-mv[np.where(mv['night'] == mv['night'][i])[0]]['observationStartMJD'] + mv['observationStartMJD'][i])*24))\n",
    "max_gaps = np.array(max_gaps)\n",
    "np.size(np.where(max_gaps > 1.)[0]), np.size(np.where(max_gaps > 2.)[0])"
   ]
  },
  {
   "cell_type": "code",
   "execution_count": null,
   "id": "1bb676e7",
   "metadata": {},
   "outputs": [],
   "source": []
  },
  {
   "cell_type": "code",
   "execution_count": 5,
   "id": "4d044c3c",
   "metadata": {},
   "outputs": [],
   "source": [
    "dbFile = '../baseline/baseline_v1.5_10yrs.db'\n",
    "conn = db.OpsimDatabase(dbFile)\n",
    "outDir='temp'\n",
    "resultsDb = db.ResultsDb(outDir=outDir)\n"
   ]
  },
  {
   "cell_type": "code",
   "execution_count": 6,
   "id": "fec36f9b",
   "metadata": {},
   "outputs": [
    {
     "name": "stdout",
     "output_type": "stream",
     "text": [
      "Querying database SummaryAllProps with no constraint for columns ['observationStartMJD', 'fieldRA', 'filter', 'fieldDec', 'note', 'night'].\n",
      "Found 2224095 visits\n",
      "Running:  ['opsim_Pass_filter_note_observationStartMJD_night_USER']\n",
      "Completed metric generation.\n",
      "Running reduce methods.\n",
      "Running summary statistics.\n",
      "Completed.\n"
     ]
    },
    {
     "data": {
      "text/plain": [
       "(52, 13)"
      ]
     },
     "execution_count": 6,
     "metadata": {},
     "output_type": "execute_result"
    }
   ],
   "source": [
    "\n",
    "bundleList = []\n",
    "sql = ''\n",
    "metric = metrics.PassMetric(cols=['filter', 'note', 'observationStartMJD', 'night'])\n",
    "slicer = slicers.UserPointsSlicer(ra=ra, dec=dec)\n",
    "bundleList.append(metricBundles.MetricBundle(metric,slicer,sql))\n",
    "\n",
    "bd = metricBundles.makeBundlesDictFromList(bundleList)\n",
    "bg = metricBundles.MetricBundleGroup(bd, conn, outDir=outDir, resultsDb=resultsDb)\n",
    "bg.runAll()\n",
    "\n",
    "mv = bundleList[0].metricValues[0]\n",
    "mv.sort(order='observationStartMJD')\n",
    "\n",
    "u_nights = np.unique(mv['night'])\n",
    "pb = []\n",
    "for night in u_nights:\n",
    "    in_night = np.where(mv['night'] == night)[0]\n",
    "    if np.size(np.unique(mv['filter'][in_night])) > 1:\n",
    "        pb.append(in_night.max())\n",
    "\n",
    "\n",
    "max_gaps = []\n",
    "for i in pb:\n",
    "    max_gaps.append(np.max((-mv[np.where(mv['night'] == mv['night'][i])[0]]['observationStartMJD'] + mv['observationStartMJD'][i])*24))\n",
    "max_gaps = np.array(max_gaps)\n",
    "np.size(np.where(max_gaps > 1.)[0]), np.size(np.where(max_gaps > 2.)[0])"
   ]
  },
  {
   "cell_type": "code",
   "execution_count": null,
   "id": "1735784a",
   "metadata": {},
   "outputs": [],
   "source": []
  },
  {
   "cell_type": "code",
   "execution_count": null,
   "id": "64494df5",
   "metadata": {},
   "outputs": [],
   "source": []
  },
  {
   "cell_type": "code",
   "execution_count": null,
   "id": "92ffd16c",
   "metadata": {},
   "outputs": [],
   "source": []
  },
  {
   "cell_type": "code",
   "execution_count": null,
   "id": "194a88ce",
   "metadata": {},
   "outputs": [],
   "source": []
  },
  {
   "cell_type": "code",
   "execution_count": null,
   "id": "ac0e61f7",
   "metadata": {},
   "outputs": [],
   "source": []
  },
  {
   "cell_type": "code",
   "execution_count": null,
   "id": "33ea49a6",
   "metadata": {},
   "outputs": [],
   "source": []
  },
  {
   "cell_type": "code",
   "execution_count": null,
   "id": "d7156ed7",
   "metadata": {},
   "outputs": [],
   "source": []
  },
  {
   "cell_type": "code",
   "execution_count": null,
   "id": "39db1cdd",
   "metadata": {},
   "outputs": [],
   "source": []
  },
  {
   "cell_type": "code",
   "execution_count": null,
   "id": "4ef8ec58",
   "metadata": {},
   "outputs": [],
   "source": []
  }
 ],
 "metadata": {
  "kernelspec": {
   "display_name": "Python 3",
   "language": "python",
   "name": "python3"
  },
  "language_info": {
   "codemirror_mode": {
    "name": "ipython",
    "version": 3
   },
   "file_extension": ".py",
   "mimetype": "text/x-python",
   "name": "python",
   "nbconvert_exporter": "python",
   "pygments_lexer": "ipython3",
   "version": "3.8.8"
  }
 },
 "nbformat": 4,
 "nbformat_minor": 5
}
